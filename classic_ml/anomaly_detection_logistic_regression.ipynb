{
 "cells": [
  {
   "cell_type": "markdown",
   "metadata": {},
   "source": [
    "<h1>Anomaly detection in time series using logistic regression</h1>"
   ]
  },
  {
   "cell_type": "code",
   "execution_count": 1,
   "metadata": {},
   "outputs": [],
   "source": [
    "import numpy as np\n",
    "import pandas as pd"
   ]
  },
  {
   "cell_type": "code",
   "execution_count": 7,
   "metadata": {},
   "outputs": [],
   "source": [
    "df = pd.read_csv('../data/resurfacing_marking_data.csv')"
   ]
  },
  {
   "cell_type": "markdown",
   "metadata": {},
   "source": [
    "# Dataset and DataLoader"
   ]
  },
  {
   "cell_type": "code",
   "execution_count": 27,
   "metadata": {},
   "outputs": [],
   "source": [
    "class TimeSeriesDataset:\n",
    "    def __init__(self, path, seq_length, step_size, split='train', train_size=0.7, val_size=0.15, transform=None):\n",
    "        self.data = pd.read_csv(path)\n",
    "        self.seq_length = seq_length\n",
    "        self.step_size = step_size\n",
    "        self.transform = transform\n",
    "\n",
    "        # split train, validation and test sampling \n",
    "        n = len(self.data)\n",
    "        train_end = int(n * train_size)\n",
    "        val_end = train_end + int(n * val_size)\n",
    "\n",
    "        if split == 'train':\n",
    "            self.data = self.data[:train_end]\n",
    "        elif split == 'val':\n",
    "            self.data = self.data[train_end:val_end]\n",
    "        elif split == 'test':\n",
    "            self.data = self.data[val_end:]\n",
    "        else:\n",
    "            raise ValueError('Split must be \"train\", \"val\" or \"test\"')\n",
    "        \n",
    "\n",
    "        self.data['time'] = pd.to_datetime(self.data['time'])\n",
    "\n",
    "        # component minute\n",
    "        self.data['minite_sin'] = np.sin(2 * np.pi * self.data['time'].dt.minute / 60)\n",
    "        self.data['minite_cos'] = np.cos(2 * np.pi * self.data['time'].dt.minute / 60)\n",
    "\n",
    "        # component hour\n",
    "        self.data['hour_sin'] = np.sin(2 * np.pi * self.data['time'].dt.hour / 24)\n",
    "        self.data['hour_cos'] = np.cos(2 * np.pi * self.data['time'].dt.hour / 24)\n",
    "\n",
    "        # component day_of_week\n",
    "        self.data['dow_sin'] = np.sin(2 * np.pi * self.data['time'].dt.day_of_week / 7)\n",
    "        self.data['dow_cos'] = np.cos(2 * np.pi * self.data['time'].dt.day_of_week / 7)\n",
    "    \n",
    "\n",
    "    def __len__(self):\n",
    "        return len(self.data) - self.seq_length - self.step_size + 1\n",
    "    \n",
    "\n",
    "    def __getitem__(self, idx):\n",
    "        X = self.data.iloc[idx: idx + self.seq_length][[col for col in self.data.columns if col != 'time']].values\n",
    "        y = self.data.iloc[idx + self.seq_length + self.step_size - 1]['flood']\n",
    "\n",
    "        if self.transform:\n",
    "            X = self.transform(X)\n",
    "\n",
    "        return np.array(X, dtype=np.float32), np.array(y, dtype=np.int8)"
   ]
  },
  {
   "cell_type": "code",
   "execution_count": 28,
   "metadata": {},
   "outputs": [],
   "source": [
    "path = '../data/resurfacing_marking_data.csv'\n",
    "seq_length = 60\n",
    "step_size = 30\n",
    "\n",
    "\n",
    "train_dataset = TimeSeriesDataset(path, seq_length, step_size, split='train')\n",
    "val_dataset = TimeSeriesDataset(path, seq_length, step_size, split='val')\n",
    "test_dataset = TimeSeriesDataset(path, seq_length, step_size, split='test')"
   ]
  },
  {
   "cell_type": "code",
   "execution_count": 78,
   "metadata": {},
   "outputs": [],
   "source": [
    "class DataLoader:\n",
    "    def __init__(self, dataset, batch_size=32, shuffle=False, drop_last=False):\n",
    "        self.dataset = dataset\n",
    "        self.batch_size = batch_size\n",
    "        self.suffle = shuffle\n",
    "        self.indices = np.arange(len(dataset))\n",
    "        self.drop_last = drop_last\n",
    "    \n",
    "    \n",
    "    def __iter__(self):\n",
    "        if self.suffle:\n",
    "            np.random.shuffle(self.indices)\n",
    "        self.current_idx = 0\n",
    "        return self\n",
    "    \n",
    "    def __next__(self):\n",
    "        if self.current_idx >= len(self.dataset):\n",
    "            raise StopIteration\n",
    "        \n",
    "        end_idx = self.current_idx + self.batch_size\n",
    "        if end_idx > len(self.dataset):\n",
    "            if self.drop_last:\n",
    "                raise StopIteration\n",
    "            else:\n",
    "                end_idx = len(self.dataset)\n",
    "\n",
    "        batch_indices = self.indices[self.current_idx:self.current_idx + self.batch_size]\n",
    "        batch = [self.dataset[idx] for idx in batch_indices]\n",
    "        self.current_idx += self.batch_size\n",
    "        X, y = zip(*batch)\n",
    "\n",
    "        return np.array(X), np.array(y)"
   ]
  },
  {
   "cell_type": "code",
   "execution_count": 79,
   "metadata": {},
   "outputs": [],
   "source": [
    "batch_size = 1440\n",
    "\n",
    "train_loader = DataLoader(train_dataset, batch_size=batch_size, shuffle=False, drop_last=True)\n",
    "val_loader = DataLoader(val_dataset, batch_size=batch_size, shuffle=False, drop_last=True)\n",
    "test_loader = DataLoader(test_dataset, batch_size=batch_size, shuffle=False, drop_last=True)"
   ]
  },
  {
   "cell_type": "markdown",
   "metadata": {},
   "source": [
    "# Train model"
   ]
  },
  {
   "cell_type": "code",
   "execution_count": 80,
   "metadata": {},
   "outputs": [],
   "source": [
    "from sklearn.linear_model import LogisticRegression\n",
    "from sklearn.metrics import classification_report, accuracy_score"
   ]
  },
  {
   "cell_type": "code",
   "execution_count": 82,
   "metadata": {},
   "outputs": [
    {
     "name": "stdout",
     "output_type": "stream",
     "text": [
      "Validation accuracy: 0.9932291666666667\n",
      "Classification report:\n",
      "               precision    recall  f1-score   support\n",
      "\n",
      "           0       0.99      1.00      1.00      5722\n",
      "           1       0.00      0.00      0.00        38\n",
      "\n",
      "    accuracy                           0.99      5760\n",
      "   macro avg       0.50      0.50      0.50      5760\n",
      "weighted avg       0.99      0.99      0.99      5760\n",
      "\n"
     ]
    }
   ],
   "source": [
    "model = LogisticRegression(max_iter=1000)\n",
    "\n",
    "def train_and_evaluate(train_loader, val_loader, model):\n",
    "    for X_batch, y_batch in train_loader:\n",
    "        X = X_batch.reshape(batch_size, -1)\n",
    "        y = y_batch.ravel()\n",
    "        model.fit(X, y)\n",
    "    \n",
    "    y_pred, y_true = [], []\n",
    "    for X_val, y_val in val_loader:\n",
    "        X = X_val.reshape(batch_size, -1)\n",
    "        y = y_val.ravel()\n",
    "        y_pred.extend(model.predict(X))\n",
    "        y_true.extend(y)\n",
    "    \n",
    "    # Вывод результатов\n",
    "    print(\"Validation accuracy:\", accuracy_score(y_true, y_pred))\n",
    "    print(\"Classification report:\\n\", classification_report(y_true, y_pred))\n",
    "    \n",
    "\n",
    "train_and_evaluate(train_loader, val_loader, model)"
   ]
  },
  {
   "cell_type": "code",
   "execution_count": 85,
   "metadata": {},
   "outputs": [
    {
     "data": {
      "text/plain": [
       "flood\n",
       "0    27800\n",
       "1      200\n",
       "Name: count, dtype: int64"
      ]
     },
     "execution_count": 85,
     "metadata": {},
     "output_type": "execute_result"
    }
   ],
   "source": [
    "train_dataset.data.flood.value_counts()"
   ]
  }
 ],
 "metadata": {
  "kernelspec": {
   "display_name": "venv",
   "language": "python",
   "name": "python3"
  },
  "language_info": {
   "codemirror_mode": {
    "name": "ipython",
    "version": 3
   },
   "file_extension": ".py",
   "mimetype": "text/x-python",
   "name": "python",
   "nbconvert_exporter": "python",
   "pygments_lexer": "ipython3",
   "version": "3.11.4"
  }
 },
 "nbformat": 4,
 "nbformat_minor": 2
}
