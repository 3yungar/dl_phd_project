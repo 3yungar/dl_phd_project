{
 "cells": [
  {
   "cell_type": "markdown",
   "metadata": {},
   "source": [
    "<h1>Anomaly detection in time series using logistic regression</h1>"
   ]
  },
  {
   "cell_type": "code",
   "execution_count": 1,
   "metadata": {},
   "outputs": [],
   "source": [
    "import numpy as np\n",
    "import pandas as pd"
   ]
  },
  {
   "cell_type": "code",
   "execution_count": 7,
   "metadata": {},
   "outputs": [],
   "source": [
    "df = pd.read_csv('../data/resurfacing_marking_data.csv')"
   ]
  },
  {
   "cell_type": "code",
   "execution_count": 16,
   "metadata": {},
   "outputs": [],
   "source": [
    "# sine-cosine transformation of time features \n",
    "df['time'] = pd.to_datetime(df['time'])\n",
    "\n",
    "# component minute\n",
    "df['minite_sin'] = np.sin(2 * np.pi * df['time'].dt.minute / 60)\n",
    "df['minite_cos'] = np.cos(2 * np.pi * df['time'].dt.minute / 60)\n",
    "\n",
    "# component hour\n",
    "df['hour_sin'] = np.sin(2 * np.pi * df['time'].dt.hour / 24)\n",
    "df['hour_cos'] = np.cos(2 * np.pi * df['time'].dt.hour / 24)\n",
    "\n",
    "# component day_of_week\n",
    "df['dow_sin'] = np.sin(2 * np.pi * df['time'].dt.day_of_week / 7)\n",
    "df['dow_cos'] = np.cos(2 * np.pi * df['time'].dt.day_of_week / 7)"
   ]
  },
  {
   "cell_type": "code",
   "execution_count": 47,
   "metadata": {},
   "outputs": [],
   "source": [
    "seq_length = 60\n",
    "step_size = 30\n",
    "X = []\n",
    "y = []\n",
    "\n",
    "for i in range(len(df) - seq_length - step_size + 1):\n",
    "    X.append(df.iloc[i: i + seq_length][[col for col in df.columns if col != 'time']].values)\n",
    "    y.append(df.iloc[i + seq_length + step_size - 1]['flood'])\n",
    "\n",
    "X = np.array(X).reshape(len(X), -1)\n",
    "y = np.array(y).reshape(-1, 1)"
   ]
  },
  {
   "cell_type": "code",
   "execution_count": 50,
   "metadata": {},
   "outputs": [
    {
     "data": {
      "text/plain": [
       "(39911, 1)"
      ]
     },
     "execution_count": 50,
     "metadata": {},
     "output_type": "execute_result"
    }
   ],
   "source": [
    "from sklearn.linear_model import LogisticRegression"
   ]
  }
 ],
 "metadata": {
  "kernelspec": {
   "display_name": "venv",
   "language": "python",
   "name": "python3"
  },
  "language_info": {
   "codemirror_mode": {
    "name": "ipython",
    "version": 3
   },
   "file_extension": ".py",
   "mimetype": "text/x-python",
   "name": "python",
   "nbconvert_exporter": "python",
   "pygments_lexer": "ipython3",
   "version": "3.11.4"
  }
 },
 "nbformat": 4,
 "nbformat_minor": 2
}
