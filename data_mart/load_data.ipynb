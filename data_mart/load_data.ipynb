{
 "cells": [
  {
   "cell_type": "markdown",
   "metadata": {},
   "source": [
    "<h1>Unloading preprocessed data from the data mart</h1>"
   ]
  },
  {
   "cell_type": "code",
   "execution_count": 1,
   "metadata": {},
   "outputs": [],
   "source": [
    "import numpy as np\n",
    "import pandas as pd\n",
    "import os\n",
    "\n",
    "from dotenv import load_dotenv\n",
    "from clickhouse_driver import Client"
   ]
  },
  {
   "cell_type": "code",
   "execution_count": 2,
   "metadata": {},
   "outputs": [],
   "source": [
    "load_dotenv()\n",
    "\n",
    "HOST = os.getenv('ANALYTICAL_HOST')\n",
    "USERNAME = os.getenv('USERNAME')\n",
    "PASSWORD = os.getenv('ANALYTICAL_PASSWORD')\n",
    "CA = os.getenv('CA')\n",
    "READONLY = os.getenv('READONLY')\n",
    "\n",
    "client = Client(host=HOST, user=USERNAME, password=PASSWORD, ca_certs=CA, secure=True)"
   ]
  },
  {
   "cell_type": "code",
   "execution_count": 3,
   "metadata": {},
   "outputs": [],
   "source": [
    "df = client.query_dataframe(f'''\n",
    "    SELECT time, temp_ice, temp_inside\n",
    "    FROM akarmanov_test_db.genesis_arena_prediction_ice\n",
    "''')\n",
    "\n",
    " \n",
    "df[10000:50000].to_csv('../data/small_data.csv', index=False)\n",
    "# df = pd.read_csv('../data/small_data.csv')"
   ]
  }
 ],
 "metadata": {
  "kernelspec": {
   "display_name": "venv",
   "language": "python",
   "name": "python3"
  },
  "language_info": {
   "codemirror_mode": {
    "name": "ipython",
    "version": 3
   },
   "file_extension": ".py",
   "mimetype": "text/x-python",
   "name": "python",
   "nbconvert_exporter": "python",
   "pygments_lexer": "ipython3",
   "version": "3.11.4"
  }
 },
 "nbformat": 4,
 "nbformat_minor": 2
}
