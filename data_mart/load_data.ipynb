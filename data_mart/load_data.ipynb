{
 "cells": [
  {
   "cell_type": "markdown",
   "metadata": {},
   "source": [
    "<h1>Unloading preprocessed data from the data mart</h1>"
   ]
  },
  {
   "cell_type": "code",
   "execution_count": 2,
   "metadata": {},
   "outputs": [],
   "source": [
    "import numpy as np\n",
    "import pandas as pd\n",
    "import os\n",
    "\n",
    "from dotenv import load_dotenv\n",
    "from clickhouse_driver import Client"
   ]
  },
  {
   "cell_type": "code",
   "execution_count": 3,
   "metadata": {},
   "outputs": [],
   "source": [
    "load_dotenv()\n",
    "\n",
    "HOST = os.getenv('ANALYTICAL_HOST')\n",
    "USERNAME = os.getenv('USERNAME')\n",
    "PASSWORD = os.getenv('ANALYTICAL_PASSWORD')\n",
    "CA = os.getenv('CA')\n",
    "READONLY = os.getenv('READONLY')\n",
    "\n",
    "client = Client(host=HOST, user=USERNAME, password=PASSWORD, ca_certs=CA, secure=True)"
   ]
  },
  {
   "cell_type": "code",
   "execution_count": 4,
   "metadata": {},
   "outputs": [],
   "source": [
    "df = client.query_dataframe(f'''\n",
    "    SELECT time, temp_ice, temp_inside, temp_outside, hum_inside, hum_outside\n",
    "    FROM akarmanov_test_db.genesis_arena_prediction_ice\n",
    "''')\n",
    "\n",
    " \n",
    "# df[10000:50000].to_csv('../data/small_data.csv', index=False)\n",
    "# df = pd.read_csv('../data/small_data.csv')"
   ]
  },
  {
   "cell_type": "code",
   "execution_count": 122,
   "metadata": {},
   "outputs": [],
   "source": [
    "df = df.drop_duplicates(subset='time').sort_values(by='time', ignore_index=True).dropna()\n",
    "df.to_csv('../data/dataset_2022-09-20_2024-08-03.csv', index=False)\n",
    "df[10000:50000].to_csv('../data/small_data.csv', index=False)"
   ]
  },
  {
   "cell_type": "code",
   "execution_count": 37,
   "metadata": {},
   "outputs": [
    {
     "name": "stdout",
     "output_type": "stream",
     "text": [
      "2022-09-20 11:31:00\n",
      "2024-08-03 23:10:00\n"
     ]
    }
   ],
   "source": [
    "start_time = df['time'].min().strftime('%Y-%m-%d %H:%M:00')\n",
    "end_time = df['time'].max().strftime('%Y-%m-%d %H:%M:00')\n",
    "\n",
    "print(start_time, end_time, sep='\\n')"
   ]
  },
  {
   "cell_type": "code",
   "execution_count": 54,
   "metadata": {},
   "outputs": [
    {
     "data": {
      "text/plain": [
       "43890    2022-10-20 23:01:00\n",
       "43891    2022-10-20 23:02:00\n",
       "43892    2022-10-20 23:03:00\n",
       "43893    2022-10-20 23:04:00\n",
       "43894    2022-10-20 23:05:00\n",
       "                 ...        \n",
       "786442   2024-03-19 14:53:00\n",
       "786443   2024-03-19 14:54:00\n",
       "786444   2024-03-19 14:55:00\n",
       "786445   2024-03-19 14:56:00\n",
       "786446   2024-03-19 14:57:00\n",
       "Length: 534, dtype: datetime64[ns]"
      ]
     },
     "execution_count": 54,
     "metadata": {},
     "output_type": "execute_result"
    }
   ],
   "source": [
    "genTimeSeries = pd.Series(pd.date_range(start_time, end_time, freq='1min'))\n",
    "dfTimeSeries = df['time']\n",
    "\n",
    "genTimeSeries[~genTimeSeries.isin(dfTimeSeries)]"
   ]
  },
  {
   "cell_type": "code",
   "execution_count": 75,
   "metadata": {},
   "outputs": [
    {
     "data": {
      "text/plain": [
       "2024-03-19    180\n",
       "2022-10-20     59\n",
       "2022-10-30     59\n",
       "2022-12-20     29\n",
       "2023-08-13     29\n",
       "2023-09-19     29\n",
       "2023-08-05     29\n",
       "2023-04-30     29\n",
       "2024-02-27     29\n",
       "2024-02-13     29\n",
       "2023-04-01     28\n",
       "2022-11-09      1\n",
       "2023-05-01      1\n",
       "2022-12-21      1\n",
       "2023-08-14      1\n",
       "2024-02-28      1\n",
       "Name: count, dtype: int64"
      ]
     },
     "execution_count": 75,
     "metadata": {},
     "output_type": "execute_result"
    }
   ],
   "source": [
    "genTimeSeries[~genTimeSeries.isin(dfTimeSeries)].apply(lambda x: x.date()).value_counts()"
   ]
  },
  {
   "cell_type": "markdown",
   "metadata": {},
   "source": [
    "# Add missing data from main database to data mart"
   ]
  },
  {
   "cell_type": "code",
   "execution_count": 58,
   "metadata": {},
   "outputs": [],
   "source": [
    "import numpy as np\n",
    "import pandas as pd\n",
    "import os\n",
    "import datetime as dt\n",
    "from datetime import datetime\n",
    "from dotenv import load_dotenv\n",
    "from clickhouse_driver import Client\n",
    "from data_wrapper import db_wrapper\n",
    "\n",
    "load_dotenv()\n",
    "\n",
    "HOST = os.getenv('BASE_HOST')\n",
    "USERNAME = os.getenv('USERNAME')\n",
    "PASSWORD = os.getenv('BASE_PASSWORD')\n",
    "CA = os.getenv('CA')\n",
    "READONLY = os.getenv('READONLY')\n",
    "ANALYTICAL_HOST = os.getenv('ANALYTICAL_HOST')\n",
    "ANALYTICAL_PASSWORD = os.getenv('ANALYTICAL_PASSWORD')\n",
    "\n",
    "# Подключаемся к боевой базе данных\n",
    "wrap = db_wrapper.ClickHouseWrapper(host=HOST, user=USERNAME, password=PASSWORD, ca=CA)\n",
    "# Подключаемся к аналитической БД с правами загрузки\n",
    "client = Client(host=ANALYTICAL_HOST, user=USERNAME, password=ANALYTICAL_PASSWORD, ca_certs=CA, secure=True)"
   ]
  },
  {
   "cell_type": "code",
   "execution_count": 102,
   "metadata": {},
   "outputs": [],
   "source": [
    "sensors = [\n",
    "# Потребление ввода холодильной машины\n",
    "{\n",
    "    \"db\": \"genesis_arena\", \"name\": \"map12e_142\", \"measurement\": \"Total AP energy\", \n",
    "    \"channel\": 1, \"phase\": 0, \"name_in_df\": \"cm_consumption\", \"mode\": \"max-min\"\n",
    "},\n",
    "# Мгновенная мощность компрессоров\n",
    "{\n",
    "    \"db\": \"genesis_arena\", \"name\": \"map12e_142\", \"measurement\": \"Total P\", \n",
    "    \"channel\": 2, \"phase\": 0, \"name_in_df\": \"state1\", \"mode\": \"max-min\"\n",
    "},\n",
    "{\n",
    "    \"db\": \"genesis_arena\", \"name\": \"map12e_142\", \"measurement\": \"Total P\",\n",
    "    \"channel\": 3, \"phase\": 0, \"name_in_df\": \"state2\", \"mode\": \"max-min\"\n",
    "},\n",
    "{\n",
    "    \"db\": \"genesis_arena\", \"name\": \"map12e_142\", \"measurement\": \"Total P\",\n",
    "    \"channel\": 4, \"phase\": 0, \"name_in_df\": \"state3\", \"mode\": \"max-min\"\n",
    "},\n",
    "{\n",
    "    \"db\": \"genesis_arena\", \"name\": \"map12e_145\", \"measurement\": \"Total P\",\n",
    "    \"channel\": 1, \"phase\": 0, \"name_in_df\": \"state4\", \"mode\": \"max-min\"\n",
    "},\n",
    "# Мгновенная мощность конденсаторов\n",
    "{\n",
    "    \"db\": \"genesis_arena\", \"name\": \"map12e_23\", \"measurement\": \"Total P\", \n",
    "    \"channel\": 1, \"phase\": 0, \"name_in_df\": \"condensator4\", \"mode\": \"mean\"\n",
    "},\n",
    "{\n",
    "    \"db\": \"genesis_arena\", \"name\": \"map12e_49\", \"measurement\": \"Total P\", \n",
    "    \"channel\": 2, \"phase\": 0, \"name_in_df\": \"condensator1\", \"mode\": \"mean\"\n",
    "},\n",
    "{\n",
    "    \"db\": \"genesis_arena\", \"name\": \"map12e_49\", \"measurement\": \"Total P\", \n",
    "    \"channel\": 3, \"phase\": 0, \"name_in_df\": \"condensator2\", \"mode\": \"mean\"\n",
    "},\n",
    "{\n",
    "    \"db\": \"genesis_arena\", \"name\": \"map12e_49\", \"measurement\": \"Total P\", \n",
    "    \"channel\": 4, \"phase\": 0, \"name_in_df\": \"condensator3\", \"mode\": \"mean\"\n",
    "},\n",
    "# Мощность циркуляционного насоса\n",
    "{\n",
    "    \"db\": \"genesis_arena\", \"name\": \"map12e_145\", \"measurement\": \"Total P\", \n",
    "    \"channel\": 3, \"phase\": 0, \"name_in_df\": \"power_pump\", \"mode\": \"mean\"\n",
    "},\n",
    "# Температура поверхности льда\n",
    "{\n",
    "    \"db\": \"genesis_arena\", \"name\": \"msw-v3_2\", \"measurement\": \"Temperature\", \n",
    "    \"channel\": 0, \"phase\": 0, \"name_in_df\": \"temp_ice\", \"mode\": \"mean\"\n",
    "},\n",
    "# Внешняя температура\n",
    "{\n",
    "    \"db\": \"genesis_arena\", \"name\": \"weather_owm\", \"measurement\": \"Temperature\",\n",
    "    \"channel\": 0, \"phase\": 0, \"name_in_df\": \"temp_outside\", \"mode\": \"mean\"\n",
    "},\n",
    "# Внешняя влажность\n",
    "{\n",
    "    \"db\": \"genesis_arena\", \"name\": \"weather_owm\", \"measurement\": \"Humidity\",\n",
    "    \"channel\": 0, \"phase\": 0, \"name_in_df\": \"hum_outside\", \"mode\": \"mean\"\n",
    "},\n",
    "# Внутреняя температура \n",
    "{\n",
    "    \"db\": \"genesis_arena\", \"name\": \"msw-v3_175\", \"measurement\": \"Temperature\",\n",
    "    \"channel\": 0, \"phase\": 0, \"name_in_df\": \"temp_inside\", \"mode\": \"mean\"\n",
    "},\n",
    "# Внутреняя влажность \n",
    "{\n",
    "    \"db\": \"genesis_arena\", \"name\": \"msw-v3_175\", \"measurement\": \"Humidity\",\n",
    "    \"channel\": 0, \"phase\": 0, \"name_in_df\": \"hum_inside\", \"mode\": \"mean\"\n",
    "}\n",
    "]"
   ]
  },
  {
   "cell_type": "code",
   "execution_count": null,
   "metadata": {},
   "outputs": [],
   "source": [
    "presample = dt.timedelta(minutes=1)\n",
    "missing_days = genTimeSeries[~genTimeSeries.isin(dfTimeSeries)].apply(lambda x: x.date()).unique()\n",
    "\n",
    "df = pd.DataFrame()\n",
    "for missing_day in missing_days:\n",
    "    start = dt.datetime.combine(missing_day, dt.time(0, 0, 0)) - dt.timedelta(hours=3)\n",
    "    end = start + dt.timedelta(days=1)\n",
    "\n",
    "    dfi = wrap.get_particular_sensors(start, end, sensors, presample_time=presample,  without_confidence=True)\n",
    "    df = pd.concat([df, dfi], axis=0)"
   ]
  },
  {
   "cell_type": "code",
   "execution_count": 104,
   "metadata": {},
   "outputs": [
    {
     "data": {
      "text/html": [
       "<div>\n",
       "<style scoped>\n",
       "    .dataframe tbody tr th:only-of-type {\n",
       "        vertical-align: middle;\n",
       "    }\n",
       "\n",
       "    .dataframe tbody tr th {\n",
       "        vertical-align: top;\n",
       "    }\n",
       "\n",
       "    .dataframe thead th {\n",
       "        text-align: right;\n",
       "    }\n",
       "</style>\n",
       "<table border=\"1\" class=\"dataframe\">\n",
       "  <thead>\n",
       "    <tr style=\"text-align: right;\">\n",
       "      <th></th>\n",
       "      <th>cm_consumption</th>\n",
       "      <th>state1</th>\n",
       "      <th>state2</th>\n",
       "      <th>state3</th>\n",
       "      <th>state4</th>\n",
       "      <th>condensator4</th>\n",
       "      <th>condensator1</th>\n",
       "      <th>condensator2</th>\n",
       "      <th>condensator3</th>\n",
       "      <th>power_pump</th>\n",
       "      <th>temp_ice</th>\n",
       "      <th>temp_outside</th>\n",
       "      <th>hum_outside</th>\n",
       "      <th>temp_inside</th>\n",
       "      <th>hum_inside</th>\n",
       "    </tr>\n",
       "  </thead>\n",
       "  <tbody>\n",
       "    <tr>\n",
       "      <th>2022-10-20 00:00:00+03:00</th>\n",
       "      <td>1.232292</td>\n",
       "      <td>36563.352539</td>\n",
       "      <td>36045.404297</td>\n",
       "      <td>37111.740234</td>\n",
       "      <td>0.470</td>\n",
       "      <td>NaN</td>\n",
       "      <td>NaN</td>\n",
       "      <td>NaN</td>\n",
       "      <td>NaN</td>\n",
       "      <td>14488.245117</td>\n",
       "      <td>-1.7000</td>\n",
       "      <td>5.809</td>\n",
       "      <td>85.979167</td>\n",
       "      <td>NaN</td>\n",
       "      <td>NaN</td>\n",
       "    </tr>\n",
       "    <tr>\n",
       "      <th>2022-10-20 00:01:00+03:00</th>\n",
       "      <td>2.281250</td>\n",
       "      <td>36844.675781</td>\n",
       "      <td>35957.416016</td>\n",
       "      <td>37708.455078</td>\n",
       "      <td>0.395</td>\n",
       "      <td>NaN</td>\n",
       "      <td>NaN</td>\n",
       "      <td>NaN</td>\n",
       "      <td>NaN</td>\n",
       "      <td>14500.530273</td>\n",
       "      <td>-1.7075</td>\n",
       "      <td>5.805</td>\n",
       "      <td>85.895833</td>\n",
       "      <td>NaN</td>\n",
       "      <td>57.124999</td>\n",
       "    </tr>\n",
       "    <tr>\n",
       "      <th>2022-10-20 00:02:00+03:00</th>\n",
       "      <td>2.274479</td>\n",
       "      <td>36968.638672</td>\n",
       "      <td>36211.759766</td>\n",
       "      <td>37841.830078</td>\n",
       "      <td>0.335</td>\n",
       "      <td>NaN</td>\n",
       "      <td>NaN</td>\n",
       "      <td>NaN</td>\n",
       "      <td>NaN</td>\n",
       "      <td>14540.429688</td>\n",
       "      <td>-1.7175</td>\n",
       "      <td>5.801</td>\n",
       "      <td>85.812500</td>\n",
       "      <td>NaN</td>\n",
       "      <td>57.175000</td>\n",
       "    </tr>\n",
       "    <tr>\n",
       "      <th>2022-10-20 00:03:00+03:00</th>\n",
       "      <td>2.280208</td>\n",
       "      <td>36390.483887</td>\n",
       "      <td>36110.509766</td>\n",
       "      <td>37715.000000</td>\n",
       "      <td>0.350</td>\n",
       "      <td>NaN</td>\n",
       "      <td>NaN</td>\n",
       "      <td>NaN</td>\n",
       "      <td>NaN</td>\n",
       "      <td>14536.700195</td>\n",
       "      <td>-1.7725</td>\n",
       "      <td>5.797</td>\n",
       "      <td>85.729167</td>\n",
       "      <td>NaN</td>\n",
       "      <td>57.150000</td>\n",
       "    </tr>\n",
       "    <tr>\n",
       "      <th>2022-10-20 00:04:00+03:00</th>\n",
       "      <td>2.280729</td>\n",
       "      <td>36855.826172</td>\n",
       "      <td>35705.308594</td>\n",
       "      <td>37094.234375</td>\n",
       "      <td>0.445</td>\n",
       "      <td>NaN</td>\n",
       "      <td>NaN</td>\n",
       "      <td>NaN</td>\n",
       "      <td>NaN</td>\n",
       "      <td>14485.524902</td>\n",
       "      <td>-1.7825</td>\n",
       "      <td>5.793</td>\n",
       "      <td>85.645833</td>\n",
       "      <td>NaN</td>\n",
       "      <td>57.162500</td>\n",
       "    </tr>\n",
       "  </tbody>\n",
       "</table>\n",
       "</div>"
      ],
      "text/plain": [
       "                           cm_consumption        state1        state2   \n",
       "2022-10-20 00:00:00+03:00        1.232292  36563.352539  36045.404297  \\\n",
       "2022-10-20 00:01:00+03:00        2.281250  36844.675781  35957.416016   \n",
       "2022-10-20 00:02:00+03:00        2.274479  36968.638672  36211.759766   \n",
       "2022-10-20 00:03:00+03:00        2.280208  36390.483887  36110.509766   \n",
       "2022-10-20 00:04:00+03:00        2.280729  36855.826172  35705.308594   \n",
       "\n",
       "                                 state3  state4  condensator4  condensator1   \n",
       "2022-10-20 00:00:00+03:00  37111.740234   0.470           NaN           NaN  \\\n",
       "2022-10-20 00:01:00+03:00  37708.455078   0.395           NaN           NaN   \n",
       "2022-10-20 00:02:00+03:00  37841.830078   0.335           NaN           NaN   \n",
       "2022-10-20 00:03:00+03:00  37715.000000   0.350           NaN           NaN   \n",
       "2022-10-20 00:04:00+03:00  37094.234375   0.445           NaN           NaN   \n",
       "\n",
       "                           condensator2  condensator3    power_pump  temp_ice   \n",
       "2022-10-20 00:00:00+03:00           NaN           NaN  14488.245117   -1.7000  \\\n",
       "2022-10-20 00:01:00+03:00           NaN           NaN  14500.530273   -1.7075   \n",
       "2022-10-20 00:02:00+03:00           NaN           NaN  14540.429688   -1.7175   \n",
       "2022-10-20 00:03:00+03:00           NaN           NaN  14536.700195   -1.7725   \n",
       "2022-10-20 00:04:00+03:00           NaN           NaN  14485.524902   -1.7825   \n",
       "\n",
       "                           temp_outside  hum_outside  temp_inside  hum_inside  \n",
       "2022-10-20 00:00:00+03:00         5.809    85.979167          NaN         NaN  \n",
       "2022-10-20 00:01:00+03:00         5.805    85.895833          NaN   57.124999  \n",
       "2022-10-20 00:02:00+03:00         5.801    85.812500          NaN   57.175000  \n",
       "2022-10-20 00:03:00+03:00         5.797    85.729167          NaN   57.150000  \n",
       "2022-10-20 00:04:00+03:00         5.793    85.645833          NaN   57.162500  "
      ]
     },
     "execution_count": 104,
     "metadata": {},
     "output_type": "execute_result"
    }
   ],
   "source": [
    "df.head()"
   ]
  },
  {
   "cell_type": "code",
   "execution_count": 105,
   "metadata": {},
   "outputs": [
    {
     "data": {
      "text/plain": [
       "22686"
      ]
     },
     "execution_count": 105,
     "metadata": {},
     "output_type": "execute_result"
    }
   ],
   "source": [
    "df = (df\n",
    " .tz_localize(None)\n",
    " .reset_index(names=['time'])\n",
    " .assign(temp_ice=lambda df: np.where(df['temp_ice'].between(-6, 3), df['temp_ice'], np.NaN))\n",
    " .pipe(lambda df: df.ffill().bfill())\n",
    " .assign(power_compressors=lambda df: df[['state1', 'state2', 'state3', 'state4']].sum(axis=1))\n",
    " .assign(power_condensators=lambda df: df[['condensator1', 'condensator2', 'condensator3', 'condensator4']].sum(axis=1))\n",
    " .assign(prediction_temp_ice=lambda df: np.NaN)\n",
    ")\n",
    "\n",
    "client.execute('USE akarmanov_test_db')\n",
    "client.insert_dataframe('''\n",
    "INSERT INTO \"genesis_arena_prediction_ice\" (\n",
    "    time, temp_ice, power_compressors, power_condensators, power_pump,\n",
    "    cm_consumption, temp_outside, temp_inside, hum_outside, hum_inside,\n",
    "    prediction_temp_ice\n",
    ") VALUES\n",
    "''',\n",
    "    df[['time', 'temp_ice', 'power_compressors', 'power_condensators', 'power_pump',\n",
    "    'cm_consumption', 'temp_outside', 'temp_inside', 'hum_outside', 'hum_inside',\n",
    "    'prediction_temp_ice']],\n",
    "    settings=dict(use_numpy=True)\n",
    ")"
   ]
  },
  {
   "cell_type": "code",
   "execution_count": 106,
   "metadata": {},
   "outputs": [],
   "source": [
    "df = client.query_dataframe(f'''\n",
    "    SELECT time, temp_ice, temp_inside, temp_outside, hum_inside, hum_outside\n",
    "    FROM akarmanov_test_db.genesis_arena_prediction_ice\n",
    "''')\n",
    "\n",
    " \n",
    "df = df.drop_duplicates(subset='time').sort_values(by='time', ignore_index=True).dropna()"
   ]
  },
  {
   "cell_type": "code",
   "execution_count": 117,
   "metadata": {},
   "outputs": [],
   "source": [
    "genTimeSeries = pd.Series(pd.date_range(start_time, end_time, freq='1min'))\n",
    "df = df.merge(pd.DataFrame({'time': genTimeSeries}), how='right').ffill()"
   ]
  },
  {
   "cell_type": "code",
   "execution_count": 128,
   "metadata": {},
   "outputs": [],
   "source": [
    "df.to_csv('../data/dataset_2022-09-20_2024-08-03.csv', index=False)\n",
    "df[10000:50000].to_csv('../data/small_data.csv', index=False)"
   ]
  }
 ],
 "metadata": {
  "kernelspec": {
   "display_name": "venv",
   "language": "python",
   "name": "python3"
  },
  "language_info": {
   "codemirror_mode": {
    "name": "ipython",
    "version": 3
   },
   "file_extension": ".py",
   "mimetype": "text/x-python",
   "name": "python",
   "nbconvert_exporter": "python",
   "pygments_lexer": "ipython3",
   "version": "3.11.4"
  }
 },
 "nbformat": 4,
 "nbformat_minor": 2
}
