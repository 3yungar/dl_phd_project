{
 "cells": [
  {
   "cell_type": "markdown",
   "metadata": {},
   "source": [
    "<h1>Applying weighted loss function in time series forecasting</h1>"
   ]
  },
  {
   "cell_type": "code",
   "execution_count": null,
   "metadata": {},
   "outputs": [],
   "source": [
    "import numpy as np\n",
    "import pandas as pd\n",
    "import matplotlib.pyplot as plt\n",
    "import datetime as dt\n",
    "from datetime import datetime\n",
    "\n",
    "import sys\n",
    "from tqdm import tqdm\n",
    "\n",
    "plt.style.use('dark_background')"
   ]
  },
  {
   "cell_type": "code",
   "execution_count": null,
   "metadata": {},
   "outputs": [
    {
     "name": "stdout",
     "output_type": "stream",
     "text": [
      "/home/jupyter/work/resources/dl_phd_project\n"
     ]
    }
   ],
   "source": [
    "%cd project/dl_phd_project"
   ]
  },
  {
   "cell_type": "code",
   "execution_count": null,
   "metadata": {},
   "outputs": [],
   "source": [
    "# df = pd.read_csv('../data/small_data.csv')\n",
    "df = pd.read_csv('data/small_data.csv')"
   ]
  },
  {
   "cell_type": "code",
   "execution_count": null,
   "metadata": {},
   "outputs": [],
   "source": [
    "import torch\n",
    "import torch.nn as nn\n",
    "from torch.utils.data import DataLoader, Dataset\n",
    "from sklearn.preprocessing import MinMaxScaler"
   ]
  },
  {
   "cell_type": "markdown",
   "metadata": {},
   "source": [
    "# Создание загрузчика данных"
   ]
  },
  {
   "cell_type": "code",
   "execution_count": null,
   "metadata": {},
   "outputs": [],
   "source": [
    "class TimeSeriesDataset(Dataset):\n",
    "    def __init__(self, path, seq_length, step_size, split='train', train_size=0.7, val_size=0.15, scaler=None):\n",
    "        '''\n",
    "        Args:\n",
    "            path (str): path to csv file with data\n",
    "            seq_length (int): sequence length for input data\n",
    "            step_size (int): steps count forward for prediction (horizon)\n",
    "            split (str): type of sample ('train', 'val', 'test')\n",
    "            train_size (float): data proportion for train sample\n",
    "            val_size (float): data proportion for val sample -> test_size = 1 - train_size - val_size\n",
    "            scaler (sklearn.preprocessing)\n",
    "        '''\n",
    "        \n",
    "        self.features = ['temp_ice', 'temp_inside']\n",
    "        self.data = pd.read_csv(path, usecols=['time'] + self.features)\n",
    "        self.seq_length = seq_length\n",
    "        self.step_size = step_size\n",
    "        self.scaler = scaler\n",
    "\n",
    "        # split train, validation and test sampling\n",
    "        n = len(self.data)\n",
    "        train_end = int(n * train_size)\n",
    "        val_end = train_end + int(n * val_size)\n",
    "\n",
    "        if split == 'train':\n",
    "            self.data = self.data[:train_end]\n",
    "            self.scaler = MinMaxScaler()\n",
    "            self.scaler.fit(self.data[['temp_ice', 'temp_inside']])\n",
    "    \n",
    "        elif split == 'val':\n",
    "            self.data = self.data[train_end:val_end]\n",
    "        elif split == 'test':\n",
    "            self.data = self.data[val_end:]\n",
    "        else:\n",
    "            raise ValueError('split must be \"train\", \"val\" or \"test\"')\n",
    "\n",
    "\n",
    "        # define weights for loss function\n",
    "        self.weights = self.data['temp_ice'].diff(1).fillna(0)**4\n",
    "        self.weights = self.weights.values\n",
    "\n",
    "        if self.scaler is not None:\n",
    "            self.data[['temp_ice', 'temp_inside']] = self.scaler.transform(self.data[['temp_ice', 'temp_inside']])\n",
    "        else:\n",
    "            raise ValueError('Scaler not defined, create a train_dataset instance for it')\n",
    "        \n",
    "\n",
    "    def __len__(self):\n",
    "        return len(self.data) - self.seq_length - self.step_size + 1\n",
    "    \n",
    "\n",
    "    def __getitem__(self, idx):\n",
    "        x = self.data.iloc[idx: idx + self.seq_length][['temp_ice', 'temp_inside']].values\n",
    "        y = self.data.iloc[idx + self.seq_length + self.step_size - 1]['temp_ice']\n",
    "        w = self.weights[idx + self.seq_length + self.step_size - 1]\n",
    "\n",
    "        return torch.tensor(x, dtype=torch.float32), torch.tensor(y, dtype=torch.float32), torch.tensor(w, dtype=torch.float32)\n",
    "    \n",
    "\n",
    "# path = '../data/small_data.csv'\n",
    "path = 'data/small_data.csv'\n",
    "seq_length = 60\n",
    "step_size = 30\n",
    "\n",
    "train_dataset = TimeSeriesDataset(path, seq_length, step_size, split='train', train_size=0.7, val_size=0.15)\n",
    "val_dataset = TimeSeriesDataset(path, seq_length, step_size, split='val', train_size=0.7, val_size=0.15, scaler=train_dataset.scaler)\n",
    "test_dataset = TimeSeriesDataset(path, seq_length, step_size, split='test', train_size=0.7, val_size=0.15, scaler=train_dataset.scaler)"
   ]
  },
  {
   "cell_type": "code",
   "execution_count": null,
   "metadata": {},
   "outputs": [],
   "source": [
    "train_loader = DataLoader(train_dataset, batch_size=16, shuffle=False, drop_last=True)\n",
    "val_loader = DataLoader(val_dataset, batch_size=16, shuffle=False, drop_last=True)\n",
    "test_loader = DataLoader(test_dataset, batch_size=16, shuffle=False, drop_last=True)"
   ]
  },
  {
   "cell_type": "code",
   "execution_count": null,
   "metadata": {},
   "outputs": [
    {
     "data": {
      "text/plain": [
       "'cpu'"
      ]
     },
     "metadata": {},
     "output_type": "display_data"
    }
   ],
   "source": [
    "device = 'cuda' if torch.cuda.is_available() else 'cpu'\n",
    "device"
   ]
  }
 ],
 "metadata": {
  "language_info": {
   "name": "python"
  }
 },
 "nbformat": 4,
 "nbformat_minor": 2
}
